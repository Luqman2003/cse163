{
 "cells": [
  {
   "cell_type": "code",
   "execution_count": 1,
   "metadata": {},
   "outputs": [
    {
     "name": "stdout",
     "output_type": "stream",
     "text": [
      "hello\n"
     ]
    }
   ],
   "source": [
    "print(\"hello\")"
   ]
  },
  {
   "cell_type": "code",
   "execution_count": 9,
   "metadata": {},
   "outputs": [
    {
     "name": "stdout",
     "output_type": "stream",
     "text": [
      "     G1  G2  G3\n",
      "0     0  11  11\n",
      "1     9  11  11\n",
      "2    12  13  12\n",
      "3    14  14  14\n",
      "4    11  13  13\n",
      "..   ..  ..  ..\n",
      "644  10  11  10\n",
      "645  15  15  16\n",
      "646  11  12   9\n",
      "647  10  10  10\n",
      "648  10  11  11\n",
      "\n",
      "[649 rows x 3 columns]\n"
     ]
    }
   ],
   "source": [
    "from ucimlrepo import fetch_ucirepo\n",
    "\n",
    "# fetch dataset\n",
    "student_performance = fetch_ucirepo(id=320)\n",
    "\n",
    "# data (as pandas dataframes)\n",
    "X = student_performance.data.features\n",
    "y = student_performance.data.targets\n",
    "\n",
    "# metadata\n",
    "# print(student_performance.metadata)\n",
    "\n",
    "# variable information\n",
    "print(y)\n"
   ]
  },
  {
   "cell_type": "code",
   "execution_count": 7,
   "metadata": {},
   "outputs": [
    {
     "name": "stdout",
     "output_type": "stream",
     "text": [
      "  school sex  age address famsize Pstatus  Medu  Fedu     Mjob      Fjob  ...  \\\n",
      "0     GP   F   18       U     GT3       A     4     4  at_home   teacher  ...   \n",
      "1     GP   F   17       U     GT3       T     1     1  at_home     other  ...   \n",
      "2     GP   F   15       U     LE3       T     1     1  at_home     other  ...   \n",
      "3     GP   F   15       U     GT3       T     4     2   health  services  ...   \n",
      "4     GP   F   16       U     GT3       T     3     3    other     other  ...   \n",
      "\n",
      "  internet romantic  famrel  freetime  goout Dalc Walc health absences Target  \n",
      "0       no       no       4         3      4    1    1      3        4    NaN  \n",
      "1      yes       no       5         3      3    1    1      3        2    NaN  \n",
      "2      yes       no       4         3      2    2    3      3        6    NaN  \n",
      "3      yes      yes       3         2      2    1    1      5        0    NaN  \n",
      "4       no       no       4         3      2    1    2      5        0    NaN  \n",
      "\n",
      "[5 rows x 31 columns]\n"
     ]
    }
   ],
   "source": [
    "import pandas as pd\n",
    "\n",
    "# Assuming 'X' is your features and is already a pandas DataFrame\n",
    "# and 'y' is your target variable, also in a DataFrame or Series format\n",
    "\n",
    "# If 'y' is not already a pandas object, convert it:\n",
    "y_df = pd.DataFrame(y, columns=['Target'])\n",
    "\n",
    "# Concatenate 'X' and 'y_df' to get a complete DataFrame\n",
    "student_performance_df = pd.concat([X, y_df], axis=1)\n",
    "\n",
    "# Now 'student_performance_df' is your complete dataset in a DataFrame\n",
    "print(student_performance_df.head())  # To display the first few rows of the DataFrame\n"
   ]
  }
 ],
 "metadata": {
  "kernelspec": {
   "display_name": "Python 3",
   "language": "python",
   "name": "python3"
  },
  "language_info": {
   "codemirror_mode": {
    "name": "ipython",
    "version": 3
   },
   "file_extension": ".py",
   "mimetype": "text/x-python",
   "name": "python",
   "nbconvert_exporter": "python",
   "pygments_lexer": "ipython3",
   "version": "3.10.11"
  }
 },
 "nbformat": 4,
 "nbformat_minor": 2
}
