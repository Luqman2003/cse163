{
 "cells": [
  {
   "cell_type": "markdown",
   "id": "a332d4a2-24b0-4eda-a729-6c7ff815c13f",
   "metadata": {},
   "source": [
    "# Pokemon\n",
    "\n",
    "In this assessment, you'll read, process, and group CSV data to compute descriptive statistics in two ways for each problem: with the Pandas library and without the Pandas library."
   ]
  },
  {
   "cell_type": "code",
   "execution_count": 2,
   "id": "0ee28303-062a-4d04-9e80-418d87c7d8d5",
   "metadata": {},
   "outputs": [],
   "source": [
    "import pandas as pd\n",
    "import io\n",
    "\n",
    "# For prettifying doctest output involving data structures\n",
    "# See also: https://stackoverflow.com/a/21227671\n",
    "from pprint import pprint"
   ]
  },
  {
   "cell_type": "markdown",
   "id": "8161707a-d1b2-4170-84b7-ad6615a50d6f",
   "metadata": {},
   "source": [
    "In the *[Pokémon](https://en.wikipedia.org/wiki/Pok%C3%A9mon)* video game series, the player catches **pokemon**, fictional creatures trained to battle each other as part of a sport franchise. For this first task, you'll practice creating your own pokemon-themed CSV dataset in the following format."
   ]
  },
  {
   "cell_type": "code",
   "execution_count": 3,
   "id": "deeb261e-855b-4684-a78c-02ed2f0fdc8a",
   "metadata": {},
   "outputs": [
    {
     "ename": "FileNotFoundError",
     "evalue": "[Errno 2] No such file or directory: 'pokemon_box.csv'",
     "output_type": "error",
     "traceback": [
      "\u001b[1;31m---------------------------------------------------------------------------\u001b[0m",
      "\u001b[1;31mFileNotFoundError\u001b[0m                         Traceback (most recent call last)",
      "Cell \u001b[1;32mIn[3], line 1\u001b[0m\n\u001b[1;32m----> 1\u001b[0m pokemon_box \u001b[38;5;241m=\u001b[39m \u001b[43mpd\u001b[49m\u001b[38;5;241;43m.\u001b[39;49m\u001b[43mread_csv\u001b[49m\u001b[43m(\u001b[49m\u001b[38;5;124;43m\"\u001b[39;49m\u001b[38;5;124;43mpokemon_box.csv\u001b[39;49m\u001b[38;5;124;43m\"\u001b[39;49m\u001b[43m)\u001b[49m\n\u001b[0;32m      2\u001b[0m pokemon_box\n",
      "File \u001b[1;32mc:\\Users\\Luqman\\AppData\\Local\\Programs\\Python\\Python311\\Lib\\site-packages\\pandas\\io\\parsers\\readers.py:912\u001b[0m, in \u001b[0;36mread_csv\u001b[1;34m(filepath_or_buffer, sep, delimiter, header, names, index_col, usecols, dtype, engine, converters, true_values, false_values, skipinitialspace, skiprows, skipfooter, nrows, na_values, keep_default_na, na_filter, verbose, skip_blank_lines, parse_dates, infer_datetime_format, keep_date_col, date_parser, date_format, dayfirst, cache_dates, iterator, chunksize, compression, thousands, decimal, lineterminator, quotechar, quoting, doublequote, escapechar, comment, encoding, encoding_errors, dialect, on_bad_lines, delim_whitespace, low_memory, memory_map, float_precision, storage_options, dtype_backend)\u001b[0m\n\u001b[0;32m    899\u001b[0m kwds_defaults \u001b[38;5;241m=\u001b[39m _refine_defaults_read(\n\u001b[0;32m    900\u001b[0m     dialect,\n\u001b[0;32m    901\u001b[0m     delimiter,\n\u001b[1;32m   (...)\u001b[0m\n\u001b[0;32m    908\u001b[0m     dtype_backend\u001b[38;5;241m=\u001b[39mdtype_backend,\n\u001b[0;32m    909\u001b[0m )\n\u001b[0;32m    910\u001b[0m kwds\u001b[38;5;241m.\u001b[39mupdate(kwds_defaults)\n\u001b[1;32m--> 912\u001b[0m \u001b[38;5;28;01mreturn\u001b[39;00m \u001b[43m_read\u001b[49m\u001b[43m(\u001b[49m\u001b[43mfilepath_or_buffer\u001b[49m\u001b[43m,\u001b[49m\u001b[43m \u001b[49m\u001b[43mkwds\u001b[49m\u001b[43m)\u001b[49m\n",
      "File \u001b[1;32mc:\\Users\\Luqman\\AppData\\Local\\Programs\\Python\\Python311\\Lib\\site-packages\\pandas\\io\\parsers\\readers.py:577\u001b[0m, in \u001b[0;36m_read\u001b[1;34m(filepath_or_buffer, kwds)\u001b[0m\n\u001b[0;32m    574\u001b[0m _validate_names(kwds\u001b[38;5;241m.\u001b[39mget(\u001b[38;5;124m\"\u001b[39m\u001b[38;5;124mnames\u001b[39m\u001b[38;5;124m\"\u001b[39m, \u001b[38;5;28;01mNone\u001b[39;00m))\n\u001b[0;32m    576\u001b[0m \u001b[38;5;66;03m# Create the parser.\u001b[39;00m\n\u001b[1;32m--> 577\u001b[0m parser \u001b[38;5;241m=\u001b[39m \u001b[43mTextFileReader\u001b[49m\u001b[43m(\u001b[49m\u001b[43mfilepath_or_buffer\u001b[49m\u001b[43m,\u001b[49m\u001b[43m \u001b[49m\u001b[38;5;241;43m*\u001b[39;49m\u001b[38;5;241;43m*\u001b[39;49m\u001b[43mkwds\u001b[49m\u001b[43m)\u001b[49m\n\u001b[0;32m    579\u001b[0m \u001b[38;5;28;01mif\u001b[39;00m chunksize \u001b[38;5;129;01mor\u001b[39;00m iterator:\n\u001b[0;32m    580\u001b[0m     \u001b[38;5;28;01mreturn\u001b[39;00m parser\n",
      "File \u001b[1;32mc:\\Users\\Luqman\\AppData\\Local\\Programs\\Python\\Python311\\Lib\\site-packages\\pandas\\io\\parsers\\readers.py:1407\u001b[0m, in \u001b[0;36mTextFileReader.__init__\u001b[1;34m(self, f, engine, **kwds)\u001b[0m\n\u001b[0;32m   1404\u001b[0m     \u001b[38;5;28mself\u001b[39m\u001b[38;5;241m.\u001b[39moptions[\u001b[38;5;124m\"\u001b[39m\u001b[38;5;124mhas_index_names\u001b[39m\u001b[38;5;124m\"\u001b[39m] \u001b[38;5;241m=\u001b[39m kwds[\u001b[38;5;124m\"\u001b[39m\u001b[38;5;124mhas_index_names\u001b[39m\u001b[38;5;124m\"\u001b[39m]\n\u001b[0;32m   1406\u001b[0m \u001b[38;5;28mself\u001b[39m\u001b[38;5;241m.\u001b[39mhandles: IOHandles \u001b[38;5;241m|\u001b[39m \u001b[38;5;28;01mNone\u001b[39;00m \u001b[38;5;241m=\u001b[39m \u001b[38;5;28;01mNone\u001b[39;00m\n\u001b[1;32m-> 1407\u001b[0m \u001b[38;5;28mself\u001b[39m\u001b[38;5;241m.\u001b[39m_engine \u001b[38;5;241m=\u001b[39m \u001b[38;5;28;43mself\u001b[39;49m\u001b[38;5;241;43m.\u001b[39;49m\u001b[43m_make_engine\u001b[49m\u001b[43m(\u001b[49m\u001b[43mf\u001b[49m\u001b[43m,\u001b[49m\u001b[43m \u001b[49m\u001b[38;5;28;43mself\u001b[39;49m\u001b[38;5;241;43m.\u001b[39;49m\u001b[43mengine\u001b[49m\u001b[43m)\u001b[49m\n",
      "File \u001b[1;32mc:\\Users\\Luqman\\AppData\\Local\\Programs\\Python\\Python311\\Lib\\site-packages\\pandas\\io\\parsers\\readers.py:1661\u001b[0m, in \u001b[0;36mTextFileReader._make_engine\u001b[1;34m(self, f, engine)\u001b[0m\n\u001b[0;32m   1659\u001b[0m     \u001b[38;5;28;01mif\u001b[39;00m \u001b[38;5;124m\"\u001b[39m\u001b[38;5;124mb\u001b[39m\u001b[38;5;124m\"\u001b[39m \u001b[38;5;129;01mnot\u001b[39;00m \u001b[38;5;129;01min\u001b[39;00m mode:\n\u001b[0;32m   1660\u001b[0m         mode \u001b[38;5;241m+\u001b[39m\u001b[38;5;241m=\u001b[39m \u001b[38;5;124m\"\u001b[39m\u001b[38;5;124mb\u001b[39m\u001b[38;5;124m\"\u001b[39m\n\u001b[1;32m-> 1661\u001b[0m \u001b[38;5;28mself\u001b[39m\u001b[38;5;241m.\u001b[39mhandles \u001b[38;5;241m=\u001b[39m \u001b[43mget_handle\u001b[49m\u001b[43m(\u001b[49m\n\u001b[0;32m   1662\u001b[0m \u001b[43m    \u001b[49m\u001b[43mf\u001b[49m\u001b[43m,\u001b[49m\n\u001b[0;32m   1663\u001b[0m \u001b[43m    \u001b[49m\u001b[43mmode\u001b[49m\u001b[43m,\u001b[49m\n\u001b[0;32m   1664\u001b[0m \u001b[43m    \u001b[49m\u001b[43mencoding\u001b[49m\u001b[38;5;241;43m=\u001b[39;49m\u001b[38;5;28;43mself\u001b[39;49m\u001b[38;5;241;43m.\u001b[39;49m\u001b[43moptions\u001b[49m\u001b[38;5;241;43m.\u001b[39;49m\u001b[43mget\u001b[49m\u001b[43m(\u001b[49m\u001b[38;5;124;43m\"\u001b[39;49m\u001b[38;5;124;43mencoding\u001b[39;49m\u001b[38;5;124;43m\"\u001b[39;49m\u001b[43m,\u001b[49m\u001b[43m \u001b[49m\u001b[38;5;28;43;01mNone\u001b[39;49;00m\u001b[43m)\u001b[49m\u001b[43m,\u001b[49m\n\u001b[0;32m   1665\u001b[0m \u001b[43m    \u001b[49m\u001b[43mcompression\u001b[49m\u001b[38;5;241;43m=\u001b[39;49m\u001b[38;5;28;43mself\u001b[39;49m\u001b[38;5;241;43m.\u001b[39;49m\u001b[43moptions\u001b[49m\u001b[38;5;241;43m.\u001b[39;49m\u001b[43mget\u001b[49m\u001b[43m(\u001b[49m\u001b[38;5;124;43m\"\u001b[39;49m\u001b[38;5;124;43mcompression\u001b[39;49m\u001b[38;5;124;43m\"\u001b[39;49m\u001b[43m,\u001b[49m\u001b[43m \u001b[49m\u001b[38;5;28;43;01mNone\u001b[39;49;00m\u001b[43m)\u001b[49m\u001b[43m,\u001b[49m\n\u001b[0;32m   1666\u001b[0m \u001b[43m    \u001b[49m\u001b[43mmemory_map\u001b[49m\u001b[38;5;241;43m=\u001b[39;49m\u001b[38;5;28;43mself\u001b[39;49m\u001b[38;5;241;43m.\u001b[39;49m\u001b[43moptions\u001b[49m\u001b[38;5;241;43m.\u001b[39;49m\u001b[43mget\u001b[49m\u001b[43m(\u001b[49m\u001b[38;5;124;43m\"\u001b[39;49m\u001b[38;5;124;43mmemory_map\u001b[39;49m\u001b[38;5;124;43m\"\u001b[39;49m\u001b[43m,\u001b[49m\u001b[43m \u001b[49m\u001b[38;5;28;43;01mFalse\u001b[39;49;00m\u001b[43m)\u001b[49m\u001b[43m,\u001b[49m\n\u001b[0;32m   1667\u001b[0m \u001b[43m    \u001b[49m\u001b[43mis_text\u001b[49m\u001b[38;5;241;43m=\u001b[39;49m\u001b[43mis_text\u001b[49m\u001b[43m,\u001b[49m\n\u001b[0;32m   1668\u001b[0m \u001b[43m    \u001b[49m\u001b[43merrors\u001b[49m\u001b[38;5;241;43m=\u001b[39;49m\u001b[38;5;28;43mself\u001b[39;49m\u001b[38;5;241;43m.\u001b[39;49m\u001b[43moptions\u001b[49m\u001b[38;5;241;43m.\u001b[39;49m\u001b[43mget\u001b[49m\u001b[43m(\u001b[49m\u001b[38;5;124;43m\"\u001b[39;49m\u001b[38;5;124;43mencoding_errors\u001b[39;49m\u001b[38;5;124;43m\"\u001b[39;49m\u001b[43m,\u001b[49m\u001b[43m \u001b[49m\u001b[38;5;124;43m\"\u001b[39;49m\u001b[38;5;124;43mstrict\u001b[39;49m\u001b[38;5;124;43m\"\u001b[39;49m\u001b[43m)\u001b[49m\u001b[43m,\u001b[49m\n\u001b[0;32m   1669\u001b[0m \u001b[43m    \u001b[49m\u001b[43mstorage_options\u001b[49m\u001b[38;5;241;43m=\u001b[39;49m\u001b[38;5;28;43mself\u001b[39;49m\u001b[38;5;241;43m.\u001b[39;49m\u001b[43moptions\u001b[49m\u001b[38;5;241;43m.\u001b[39;49m\u001b[43mget\u001b[49m\u001b[43m(\u001b[49m\u001b[38;5;124;43m\"\u001b[39;49m\u001b[38;5;124;43mstorage_options\u001b[39;49m\u001b[38;5;124;43m\"\u001b[39;49m\u001b[43m,\u001b[49m\u001b[43m \u001b[49m\u001b[38;5;28;43;01mNone\u001b[39;49;00m\u001b[43m)\u001b[49m\u001b[43m,\u001b[49m\n\u001b[0;32m   1670\u001b[0m \u001b[43m\u001b[49m\u001b[43m)\u001b[49m\n\u001b[0;32m   1671\u001b[0m \u001b[38;5;28;01massert\u001b[39;00m \u001b[38;5;28mself\u001b[39m\u001b[38;5;241m.\u001b[39mhandles \u001b[38;5;129;01mis\u001b[39;00m \u001b[38;5;129;01mnot\u001b[39;00m \u001b[38;5;28;01mNone\u001b[39;00m\n\u001b[0;32m   1672\u001b[0m f \u001b[38;5;241m=\u001b[39m \u001b[38;5;28mself\u001b[39m\u001b[38;5;241m.\u001b[39mhandles\u001b[38;5;241m.\u001b[39mhandle\n",
      "File \u001b[1;32mc:\\Users\\Luqman\\AppData\\Local\\Programs\\Python\\Python311\\Lib\\site-packages\\pandas\\io\\common.py:859\u001b[0m, in \u001b[0;36mget_handle\u001b[1;34m(path_or_buf, mode, encoding, compression, memory_map, is_text, errors, storage_options)\u001b[0m\n\u001b[0;32m    854\u001b[0m \u001b[38;5;28;01melif\u001b[39;00m \u001b[38;5;28misinstance\u001b[39m(handle, \u001b[38;5;28mstr\u001b[39m):\n\u001b[0;32m    855\u001b[0m     \u001b[38;5;66;03m# Check whether the filename is to be opened in binary mode.\u001b[39;00m\n\u001b[0;32m    856\u001b[0m     \u001b[38;5;66;03m# Binary mode does not support 'encoding' and 'newline'.\u001b[39;00m\n\u001b[0;32m    857\u001b[0m     \u001b[38;5;28;01mif\u001b[39;00m ioargs\u001b[38;5;241m.\u001b[39mencoding \u001b[38;5;129;01mand\u001b[39;00m \u001b[38;5;124m\"\u001b[39m\u001b[38;5;124mb\u001b[39m\u001b[38;5;124m\"\u001b[39m \u001b[38;5;129;01mnot\u001b[39;00m \u001b[38;5;129;01min\u001b[39;00m ioargs\u001b[38;5;241m.\u001b[39mmode:\n\u001b[0;32m    858\u001b[0m         \u001b[38;5;66;03m# Encoding\u001b[39;00m\n\u001b[1;32m--> 859\u001b[0m         handle \u001b[38;5;241m=\u001b[39m \u001b[38;5;28;43mopen\u001b[39;49m\u001b[43m(\u001b[49m\n\u001b[0;32m    860\u001b[0m \u001b[43m            \u001b[49m\u001b[43mhandle\u001b[49m\u001b[43m,\u001b[49m\n\u001b[0;32m    861\u001b[0m \u001b[43m            \u001b[49m\u001b[43mioargs\u001b[49m\u001b[38;5;241;43m.\u001b[39;49m\u001b[43mmode\u001b[49m\u001b[43m,\u001b[49m\n\u001b[0;32m    862\u001b[0m \u001b[43m            \u001b[49m\u001b[43mencoding\u001b[49m\u001b[38;5;241;43m=\u001b[39;49m\u001b[43mioargs\u001b[49m\u001b[38;5;241;43m.\u001b[39;49m\u001b[43mencoding\u001b[49m\u001b[43m,\u001b[49m\n\u001b[0;32m    863\u001b[0m \u001b[43m            \u001b[49m\u001b[43merrors\u001b[49m\u001b[38;5;241;43m=\u001b[39;49m\u001b[43merrors\u001b[49m\u001b[43m,\u001b[49m\n\u001b[0;32m    864\u001b[0m \u001b[43m            \u001b[49m\u001b[43mnewline\u001b[49m\u001b[38;5;241;43m=\u001b[39;49m\u001b[38;5;124;43m\"\u001b[39;49m\u001b[38;5;124;43m\"\u001b[39;49m\u001b[43m,\u001b[49m\n\u001b[0;32m    865\u001b[0m \u001b[43m        \u001b[49m\u001b[43m)\u001b[49m\n\u001b[0;32m    866\u001b[0m     \u001b[38;5;28;01melse\u001b[39;00m:\n\u001b[0;32m    867\u001b[0m         \u001b[38;5;66;03m# Binary mode\u001b[39;00m\n\u001b[0;32m    868\u001b[0m         handle \u001b[38;5;241m=\u001b[39m \u001b[38;5;28mopen\u001b[39m(handle, ioargs\u001b[38;5;241m.\u001b[39mmode)\n",
      "\u001b[1;31mFileNotFoundError\u001b[0m: [Errno 2] No such file or directory: 'pokemon_box.csv'"
     ]
    }
   ],
   "source": [
    "pokemon_box = pd.read_csv(\"pokemon_box.csv\")\n",
    "pokemon_box"
   ]
  },
  {
   "cell_type": "markdown",
   "id": "0acec873-4fe6-43c2-93ff-81597400069a",
   "metadata": {},
   "source": [
    "- `id` is a unique numeric identifier corresponding to the species of a pokemon.\n",
    "- `name` is the name of the species of pokemon, such as Bulbasaur.\n",
    "- `level` is the integer level of the pokemon.\n",
    "- `personality` is a one-word string describing the personality of the pokemon, such as Jolly.\n",
    "- `type` is a one-word string describing the type of the pokemon, such as Grass.\n",
    "- `weakness` is the enemy type that this pokemon is weak toward. Bulbasaur is weak to fire-type pokemon.\n",
    "- `atk`, `def`, `hp` are integers that indicate the attack power, defense power, and hit points of the pokemon.\n",
    "- `stage` is an integer that indicates the particular developmental stage of the pokemon.\n",
    "\n",
    "> Assume the **data is never empty** (there's at least one pokemon), that there's **no missing data** (each pokemon has every attribute), and **pokemon stats can be any non-negative integers, including 0**.\n",
    "\n",
    "This assessment introduces a new way of validating and testing your data programs by comparing two different approaches to implementing the same function: writing an implementation once using plain Python and again using Pandas. For each programming task below, you'll write and test each function in the same way to build confidence in their correctness and robustness. In addition to the large `pokemon_box` dataset above, we've provided a much smaller `pokemon_test` dataset below."
   ]
  },
  {
   "cell_type": "code",
   "execution_count": null,
   "id": "81a01b89-a160-4abe-8be9-7b1fe1bd782f",
   "metadata": {},
   "outputs": [],
   "source": [
    "pokemon_test = pd.read_csv(io.StringIO(\"\"\"\n",
    "id,name,level,personality,type,weakness,atk,def,hp,stage\n",
    "59,Arcanine,35,impish,fire,water,50,55,90,2\n",
    "59,Arcanine,35,gentle,fire,water,45,60,80,2\n",
    "121,Starmie,67,sassy,water,electric,174,56,113,2\n",
    "131,Lapras,72,lax,water,electric,107,113,29,1\n",
    "\"\"\"))\n",
    "pokemon_test"
   ]
  },
  {
   "cell_type": "markdown",
   "id": "d8903f3f-27bc-44f7-b960-d542035dbad6",
   "metadata": {},
   "source": [
    "Note that it's possible to have multiple pokemon that have very similar attributes. In the `pokemon_test` dataset, there are two pokemon named \"Arcanine\" with the same `id`, `level`, and `type` â€” differing only in `personality`, `atk`, `def`, and `hp`. Since there's not a clearly unique key to use as an index, we won't define a meaningful index for this assessment.\n",
    "\n",
    "## Task: Create your own dataset\n",
    "\n",
    "Before starting your programming tasks, create at least one additional testing dataset below. In total, each function you write should contain 3 tests:\n",
    "\n",
    "1. One test for the large `pokemon_box` dataset.\n",
    "2. One test for the small `pokemon_test` dataset.\n",
    "3. One test for your own `pokemon_mine` dataset below."
   ]
  },
  {
   "cell_type": "code",
   "execution_count": null,
   "id": "3bcd556b-d0df-4f6e-b372-f432cb112eb7",
   "metadata": {},
   "outputs": [],
   "source": [
    "pokemon_mine = pd.read_csv(io.StringIO(\n",
    "    ...\n",
    "))\n",
    "pokemon_mine"
   ]
  },
  {
   "cell_type": "markdown",
   "id": "e63cd99c-91a0-4474-b123-a91c8683febb",
   "metadata": {},
   "source": [
    "## Task: Species count\n",
    "\n",
    "Write a function `python_species_count` that takes a list of dictionaries representing the pokemon dataset and returns the number of unique pokemon species in the dataset as determined by the `name` attribute without using Pandas.\n",
    "\n",
    "Write a function `pandas_species_count` that does the same thing but using a `DataFrame` as input.\n",
    "\n",
    "Add your test case and a descriptive docstring for both functions."
   ]
  },
  {
   "cell_type": "code",
   "execution_count": null,
   "id": "afd94fbd-9a78-4071-b902-2ea56ed6decc",
   "metadata": {},
   "outputs": [],
   "source": [
    "def python_species_count(data):\n",
    "    \"\"\"\n",
    "    ...\n",
    "\n",
    "    >>> python_species_count(pokemon_box.to_records(\"dict\"))\n",
    "    82\n",
    "    >>> python_species_count(pokemon_test.to_records(\"dict\"))\n",
    "    3\n",
    "    \"\"\"\n",
    "    ..."
   ]
  },
  {
   "cell_type": "code",
   "execution_count": null,
   "id": "01f0d394-9005-444f-9f0a-1b39855169e4",
   "metadata": {},
   "outputs": [],
   "source": [
    "def pandas_species_count(data):\n",
    "    \"\"\"\n",
    "    ...\n",
    "\n",
    "    >>> pandas_species_count(pokemon_box)\n",
    "    82\n",
    "    >>> pandas_species_count(pokemon_test)\n",
    "    3\n",
    "    \"\"\"\n",
    "    ..."
   ]
  },
  {
   "cell_type": "markdown",
   "id": "f8682e5b-4877-41f5-932a-f9dc9cd1cbc4",
   "metadata": {},
   "source": [
    "## Task: Max level\n",
    "\n",
    "Write a function `python_max_level` that takes a list of dictionaries representing the pokemon dataset and returns a 2-element tuple for the `(name, level)` of the pokemon with the highest `level` in the dataset. If there are multiple pokemon with the highest `level`, return the pokemon that appears first in the dataset.\n",
    "\n",
    "Write a function `pandas_max_level` that does the same thing but using a `DataFrame` as input.\n",
    "\n",
    "Add your test case and a descriptive docstring for both functions."
   ]
  },
  {
   "cell_type": "code",
   "execution_count": null,
   "id": "782165df-5105-47ef-905d-d1d6dc2e762c",
   "metadata": {},
   "outputs": [],
   "source": [
    "def python_max_level(data):\n",
    "    \"\"\"\n",
    "    ...\n",
    "\n",
    "    >>> python_max_level(pokemon_box.to_dict(\"records\"))\n",
    "    ('Victreebel', 100)\n",
    "    >>> python_max_level(pokemon_test.to_dict(\"records\"))\n",
    "    ('Lapras', 72)\n",
    "    \"\"\"\n",
    "    ..."
   ]
  },
  {
   "cell_type": "code",
   "execution_count": null,
   "id": "5fb1d1a5-1c63-4caa-a35f-94a521ad3ed1",
   "metadata": {},
   "outputs": [],
   "source": [
    "def pandas_max_level(data):\n",
    "    \"\"\"\n",
    "    ...\n",
    "\n",
    "    >>> pandas_max_level(pokemon_box)\n",
    "    ('Victreebel', 100)\n",
    "    >>> pandas_max_level(pokemon_test)\n",
    "    ('Lapras', 72)\n",
    "    \"\"\"\n",
    "    ..."
   ]
  },
  {
   "cell_type": "markdown",
   "id": "05e101e5-5d3d-4129-b6ea-1bbfa3d65152",
   "metadata": {},
   "source": [
    "## Task: Filter range\n",
    "\n",
    "Write a function `python_filter_range` that takes a list of dictionaries representing the pokemon dataset and two integers: a lower bound (inclusive) and upper bound (exclusive). The function should return a list of the names of pokemon whose `level` fall within the bounds in the same order that they appear in the dataset.\n",
    "\n",
    "Write a function `pandas_filter_range` that does the same thing but using a `DataFrame` as input. To convert a `Series` to a `list`, use the built-in `list` function as shown below.\n",
    "\n",
    "```python\n",
    "csv = \"\"\"\n",
    "name,age,species\n",
    "Fido,4,dog\n",
    "Meowrty,6,cat\n",
    "Chester,1,dog\n",
    "Phil,1,axolotl\n",
    "\"\"\"\n",
    "data = pd.read_csv(io.StringIO(csv))\n",
    "\n",
    "list(data['name'])\n",
    "# ['Fido', 'Meowrty', 'Chester', 'Phil']\n",
    "\n",
    "list(data.loc[1])\n",
    "# ['Meowrty', 6, 'cat']\n",
    "```\n",
    "\n",
    "Add your test case and a descriptive docstring for both functions."
   ]
  },
  {
   "cell_type": "code",
   "execution_count": null,
   "id": "85072551-e104-4bcf-998e-1dcca81b72f0",
   "metadata": {},
   "outputs": [],
   "source": [
    "def python_filter_range(data, lower, upper):\n",
    "    \"\"\"\n",
    "    ...\n",
    "\n",
    "    >>> pprint(python_filter_range(pokemon_box.to_dict(\"records\"), 0, 10))\n",
    "    ['Primeape',\n",
    "     'Metapod',\n",
    "     'Caterpie',\n",
    "     'Ninetales',\n",
    "     'Weezing',\n",
    "     'Tangela',\n",
    "     'Butterfree',\n",
    "     'Exeggcute',\n",
    "     'Arcanine']\n",
    "    >>> pprint(python_filter_range(pokemon_test.to_dict(\"records\"), 35, 72))\n",
    "    ['Arcanine', 'Arcanine', 'Starmie']\n",
    "    \"\"\"\n",
    "    ..."
   ]
  },
  {
   "cell_type": "code",
   "execution_count": null,
   "id": "50245f47-ed9b-4da8-b5e2-14acb1358f04",
   "metadata": {},
   "outputs": [],
   "source": [
    "def pandas_filter_range(data, lower, upper):\n",
    "    \"\"\"\n",
    "    ...\n",
    "\n",
    "    >>> pprint(pandas_filter_range(pokemon_box, 0, 10))\n",
    "    ['Primeape',\n",
    "     'Metapod',\n",
    "     'Caterpie',\n",
    "     'Ninetales',\n",
    "     'Weezing',\n",
    "     'Tangela',\n",
    "     'Butterfree',\n",
    "     'Exeggcute',\n",
    "     'Arcanine']\n",
    "    >>> pprint(pandas_filter_range(pokemon_test, 35, 72))\n",
    "    ['Arcanine', 'Arcanine', 'Starmie']\n",
    "    \"\"\"\n",
    "    ..."
   ]
  },
  {
   "cell_type": "markdown",
   "id": "8561fc99-867e-4572-8a33-3fe78114e72c",
   "metadata": {},
   "source": [
    "## Task: Mean attack for type\n",
    "\n",
    "Write a function `python_mean_attack_for_type` that takes a list of dictionaries representing the pokemon dataset and a `str` representing the pokemon `type`. The function should return the average `atk` for all the pokemon in the dataset with the given `type`. If there are no pokemon of the given `type`, return `None`.\n",
    "\n",
    "Write a function `pandas_mean_attack_for_type` that does the same thing but using a `DataFrame` as input.\n",
    "\n",
    "Add your test case and a descriptive docstring for both functions."
   ]
  },
  {
   "cell_type": "code",
   "execution_count": null,
   "id": "85175da7-b317-4ee5-9778-b106f8bbe1d5",
   "metadata": {},
   "outputs": [],
   "source": [
    "def python_mean_attack_for_type(data, pokemon_type):\n",
    "    \"\"\"\n",
    "    ...\n",
    "\n",
    "    >>> python_mean_attack_for_type(pokemon_box.to_dict(\"records\"), \"water\")\n",
    "    99.75\n",
    "    >>> python_mean_attack_for_type(pokemon_test.to_dict(\"records\"), \"fire\")\n",
    "    47.5\n",
    "    \"\"\"\n",
    "    ..."
   ]
  },
  {
   "cell_type": "code",
   "execution_count": null,
   "id": "ca5ead67-36d9-4273-a551-9840aa4254d7",
   "metadata": {},
   "outputs": [],
   "source": [
    "def pandas_mean_attack_for_type(data, pokemon_type):\n",
    "    \"\"\"\n",
    "    ...\n",
    "\n",
    "    >>> pandas_mean_attack_for_type(pokemon_box, \"water\")\n",
    "    99.75\n",
    "    >>> pandas_mean_attack_for_type(pokemon_test, \"fire\")\n",
    "    47.5\n",
    "    \"\"\"\n",
    "    ..."
   ]
  },
  {
   "cell_type": "markdown",
   "id": "302e6501-1bf6-43a9-bcf5-a098b940e019",
   "metadata": {},
   "source": [
    "## Task: Count types\n",
    "\n",
    "Write a function `python_count_types` that takes a list of dictionaries representing the pokemon dataset and returns a dictionary of each pokemon `type` and the number of pokemon of that `type`. The order of entries in the returned dictionary does not matter.\n",
    "\n",
    "Write a function `pandas_count_types` that does the same thing but using a `DataFrame` as input. To convert a `Series` to a `dict`, use the built-in `dict` function as shown below.\n",
    "\n",
    "```python\n",
    "csv = \"\"\"\n",
    "name,age,species\n",
    "Fido,4,dog\n",
    "Meowrty,6,cat\n",
    "Chester,1,dog\n",
    "Phil,1,axolotl\n",
    "\"\"\"\n",
    "data = pd.read_csv(io.StringIO(csv))\n",
    "\n",
    "dict(data['name'])\n",
    "# {0: 'Fido', 1: 'Meowrty', 2: 'Chester', 3: 'Phil'}\n",
    "\n",
    "dict(data.loc[1])\n",
    "# {'name': 'Meowrty', 'age': 6, 'species': 'cat'}\n",
    "```\n",
    "\n",
    "Add your test case and a descriptive docstring for both functions."
   ]
  },
  {
   "cell_type": "code",
   "execution_count": null,
   "id": "657781b5-e752-4f6b-85cc-600c8be38b3e",
   "metadata": {},
   "outputs": [],
   "source": [
    "def python_count_types(data):\n",
    "    \"\"\"\n",
    "    ...\n",
    "\n",
    "    >>> pprint(python_count_types(pokemon_box.to_dict(\"records\")))\n",
    "    {'bug': 3,\n",
    "     'electric': 1,\n",
    "     'fairy': 3,\n",
    "     'fighting': 3,\n",
    "     'fire': 15,\n",
    "     'flying': 6,\n",
    "     'ghost': 3,\n",
    "     'grass': 17,\n",
    "     'ground': 5,\n",
    "     'normal': 10,\n",
    "     'poison': 12,\n",
    "     'psychic': 6,\n",
    "     'rock': 7,\n",
    "     'water': 24}\n",
    "    >>> pprint(python_count_types(pokemon_test.to_dict(\"records\")))\n",
    "    {'fire': 2, 'water': 2}\n",
    "    \"\"\"\n",
    "    ..."
   ]
  },
  {
   "cell_type": "code",
   "execution_count": null,
   "id": "4bc2f645-4c16-479f-86d4-151b6390bbb1",
   "metadata": {},
   "outputs": [],
   "source": [
    "def pandas_count_types(data):\n",
    "    \"\"\"\n",
    "    ...\n",
    "\n",
    "    >>> pprint(pandas_count_types(pokemon_box))\n",
    "    {'bug': 3,\n",
    "     'electric': 1,\n",
    "     'fairy': 3,\n",
    "     'fighting': 3,\n",
    "     'fire': 15,\n",
    "     'flying': 6,\n",
    "     'ghost': 3,\n",
    "     'grass': 17,\n",
    "     'ground': 5,\n",
    "     'normal': 10,\n",
    "     'poison': 12,\n",
    "     'psychic': 6,\n",
    "     'rock': 7,\n",
    "     'water': 24}\n",
    "    >>> pprint(pandas_count_types(pokemon_test))\n",
    "    {'fire': 2, 'water': 2}\n",
    "    \"\"\"\n",
    "    ..."
   ]
  },
  {
   "cell_type": "markdown",
   "id": "6a9678e6-bf45-4db7-a6f9-c93c2f98da8c",
   "metadata": {},
   "source": [
    "## Task: Mean attack per type\n",
    "\n",
    "Write a function `python_mean_attack_per_type` that takes a list of dictionaries representing the pokemon dataset and returns a dictionary of each pokemon `type` and the average `atk` of pokemon of that `type`. The order of entries in the returned dictionary does not matter.\n",
    "\n",
    "Write a function `pandas_mean_attack_per_type` that does the same thing but using a `DataFrame` as input.\n",
    "\n",
    "Add your test case and a descriptive docstring for both functions."
   ]
  },
  {
   "cell_type": "code",
   "execution_count": null,
   "id": "1e064bdb-6746-494d-b0bf-3120dd3dae7b",
   "metadata": {},
   "outputs": [],
   "source": [
    "def python_mean_attack_per_type(data):\n",
    "    \"\"\"\n",
    "    ...\n",
    "\n",
    "    >>> pprint(python_mean_attack_per_type(pokemon_box.to_dict(\"records\")))\n",
    "    {'bug': 25.0,\n",
    "     'electric': 64.0,\n",
    "     'fairy': 76.33333333333333,\n",
    "     'fighting': 99.66666666666667,\n",
    "     'fire': 99.4,\n",
    "     'flying': 110.83333333333333,\n",
    "     'ghost': 88.0,\n",
    "     'grass': 105.3529411764706,\n",
    "     'ground': 116.6,\n",
    "     'normal': 108.0,\n",
    "     'poison': 121.75,\n",
    "     'psychic': 114.83333333333333,\n",
    "     'rock': 84.85714285714286,\n",
    "     'water': 99.75}\n",
    "    >>> pprint(python_mean_attack_per_type(pokemon_test.to_dict(\"records\")))\n",
    "    {'fire': 47.5, 'water': 140.5}\n",
    "    \"\"\"\n",
    "    ..."
   ]
  },
  {
   "cell_type": "code",
   "execution_count": null,
   "id": "baf47467-65ef-42ba-8392-a41e05cdc687",
   "metadata": {},
   "outputs": [],
   "source": [
    "def pandas_mean_attack_per_type(data):\n",
    "    \"\"\"\n",
    "    ...\n",
    "\n",
    "    >>> pprint(pandas_mean_attack_per_type(pokemon_box))\n",
    "    {'bug': 25.0,\n",
    "     'electric': 64.0,\n",
    "     'fairy': 76.33333333333333,\n",
    "     'fighting': 99.66666666666667,\n",
    "     'fire': 99.4,\n",
    "     'flying': 110.83333333333333,\n",
    "     'ghost': 88.0,\n",
    "     'grass': 105.3529411764706,\n",
    "     'ground': 116.6,\n",
    "     'normal': 108.0,\n",
    "     'poison': 121.75,\n",
    "     'psychic': 114.83333333333333,\n",
    "     'rock': 84.85714285714286,\n",
    "     'water': 99.75}\n",
    "    >>> pprint(pandas_mean_attack_per_type(pokemon_test))\n",
    "    {'fire': 47.5, 'water': 140.5}\n",
    "    \"\"\"\n",
    "    ..."
   ]
  },
  {
   "cell_type": "markdown",
   "id": "084aa551-bedd-4c3b-a11e-1120c5fc38eb",
   "metadata": {},
   "source": [
    "## Testing"
   ]
  },
  {
   "cell_type": "code",
   "execution_count": null,
   "id": "84e2ad5c-e426-45ab-b450-0662f8cabadc",
   "metadata": {},
   "outputs": [],
   "source": [
    "import doctest\n",
    "doctest.testmod()"
   ]
  }
 ],
 "metadata": {
  "kernelspec": {
   "display_name": "Python 3 (ipykernel)",
   "language": "python",
   "name": "python3"
  },
  "language_info": {
   "codemirror_mode": {
    "name": "ipython",
    "version": 3
   },
   "file_extension": ".py",
   "mimetype": "text/x-python",
   "name": "python",
   "nbconvert_exporter": "python",
   "pygments_lexer": "ipython3",
   "version": "3.11.3"
  }
 },
 "nbformat": 4,
 "nbformat_minor": 5
}
